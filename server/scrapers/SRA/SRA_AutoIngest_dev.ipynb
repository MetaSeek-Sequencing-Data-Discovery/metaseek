{
 "cells": [
  {
   "cell_type": "code",
   "execution_count": 7,
   "metadata": {
    "collapsed": true
   },
   "outputs": [],
   "source": [
    "import urllib\n",
    "from lxml import etree"
   ]
  },
  {
   "cell_type": "markdown",
   "metadata": {},
   "source": [
    "# Auto ingestion of SRA metadata\n",
    "\n",
    "1. Get a list of SRA UIDs to scrape\n",
    "    1. get all publically accessible SRA (SRX) accessions\n",
    "    2. remove SRA UIDs already been ingested into MetaSeek DB (all 'source_db_uid' where 'source_db' = 'SRA'\n",
    "    \n",
    "2. Split UIDs to scrape into batches of 500\n",
    "\n",
    "3. For each batch, scrape metadata:\n",
    "    1. efetch scrape SRA\n",
    "    2. elink to BioSample, Pubmed, Nuccore\n",
    "    3. efetch scrape BioSample, if exists\n",
    "    4. efetch scrape Pubmed, if exists\n",
    "    5. efetch scrape nuccore, if exists\n",
    "    \n",
    "4. Merge redundant cols to MIxS-compliant MetaSeek fields (separate script)\n",
    "\n",
    "5. Parse fields with controlled vocabularies to MIxS CV, if possible (NOTE: future error parsing)\n",
    "\n",
    "6. Insert scraped data into MetaSeek DB directly"
   ]
  },
  {
   "cell_type": "markdown",
   "metadata": {},
   "source": [
    "# 1.A - Get a list of SRA UIDs to scrape\n",
    "\n",
    "* find out how many publicly available samples there are; make list retstarts to use \n",
    "* Call esearch api, with rotating retstarts, to get full UID list\n",
    "\n",
    "NOTE - most comprehensive API call to find ALL the SRA samples I can find (since an empty search term returns no accessions, not all) is term=public&field=ACS; returns all publically accessible SRA UIDs"
   ]
  },
  {
   "cell_type": "code",
   "execution_count": 58,
   "metadata": {
    "collapsed": true
   },
   "outputs": [],
   "source": [
    "def get_retstart_list(url):\n",
    "    #define retstarts need for get_uid_list eutilities requests - since can only get 100,000 at a time, need to make multiple queries to get total list\n",
    "    #find out count of UIDs going to pull from SRA\n",
    "    g = urllib.urlopen(url)\n",
    "    count_tree = etree.parse(g)\n",
    "    g.close()\n",
    "    count_xml = count_tree.getroot()\n",
    "    num_uids = count_xml.findtext(\"Count\")\n",
    "    print 'number of publicly available UIDs in SRA: %s' % num_uids\n",
    "    num_queries = 1+int(num_uids)/100000  #number of queries to do, with shifting retstart\n",
    "    retstart_list = [i*100000 for i in range(num_queries)]\n",
    "    print 'retstarts to use: %s' % retstart_list\n",
    "    return retstart_list\n",
    "\n",
    "def get_uid_list(ret_list):\n",
    "    #scrape UIDs into list\n",
    "    uid_list = []\n",
    "    for retstart in ret_list:\n",
    "        f = urllib.urlopen('https://eutils.ncbi.nlm.nih.gov/entrez/eutils/esearch.fcgi?db=sra&term=public&field=ACS&tool=metaseq&email=metaseekcloud%40gmail.com&retmax=100000&retstart='+str(retstart))\n",
    "        uid_tree = etree.parse(f)\n",
    "        f.close()\n",
    "        uid_xml = uid_tree.getroot()\n",
    "        print \"appending %s accessions\" % len(uid_xml.find(\"IdList\").findall(\"Id\"))\n",
    "        #add uids to list of accessions\n",
    "        for id in uid_xml.find(\"IdList\").iterchildren():\n",
    "            value = id.text\n",
    "            uid_list.append(value)\n",
    "    return uid_list"
   ]
  },
  {
   "cell_type": "code",
   "execution_count": 59,
   "metadata": {
    "collapsed": false
   },
   "outputs": [
    {
     "name": "stdout",
     "output_type": "stream",
     "text": [
      "number of publicly available UIDs in SRA: 2694344\n",
      "retstarts to use: [0, 100000, 200000, 300000, 400000, 500000, 600000, 700000, 800000, 900000, 1000000, 1100000, 1200000, 1300000, 1400000, 1500000, 1600000, 1700000, 1800000, 1900000, 2000000, 2100000, 2200000, 2300000, 2400000, 2500000, 2600000]\n"
     ]
    }
   ],
   "source": [
    "retstart_list = get_retstart_list(url='https://eutils.ncbi.nlm.nih.gov/entrez/eutils/esearch.fcgi?db=sra&term=public&field=ACS&rettype=count&tool=metaseq&email=metaseekcloud%40gmail.com')"
   ]
  },
  {
   "cell_type": "code",
   "execution_count": null,
   "metadata": {
    "collapsed": false
   },
   "outputs": [],
   "source": [
    "uid_list = get_uid_list(ret_list=retstart_list)"
   ]
  },
  {
   "cell_type": "markdown",
   "metadata": {},
   "source": [
    "# TODO 1.B - Remove SRA UIDs already in in MetaSeek DB\n",
    "\n",
    "db_source_uid where db_source = 'SRA'"
   ]
  },
  {
   "cell_type": "markdown",
   "metadata": {},
   "source": [
    "# 2 - Split UIDs to scrape into batches of 500"
   ]
  },
  {
   "cell_type": "code",
   "execution_count": 65,
   "metadata": {
    "collapsed": false
   },
   "outputs": [],
   "source": [
    "def get_batches(uid_list):\n",
    "    starts = range(0,len(uid_list),500)\n",
    "    ends = range(500,len(uid_list),500)\n",
    "    ends.append(len(uid_list))\n",
    "    batches = [list(a) for a in zip(starts, ends)]\n",
    "    return batches"
   ]
  },
  {
   "cell_type": "code",
   "execution_count": 66,
   "metadata": {
    "collapsed": true
   },
   "outputs": [],
   "source": [
    "batches = get_batches(uid_list)"
   ]
  },
  {
   "cell_type": "code",
   "execution_count": 67,
   "metadata": {
    "collapsed": false
   },
   "outputs": [
    {
     "name": "stdout",
     "output_type": "stream",
     "text": [
      "5389\n",
      "[[0, 500], [500, 1000], [1000, 1500], [1500, 2000], [2000, 2500], [2500, 3000], [3000, 3500], [3500, 4000], [4000, 4500], [4500, 5000]]\n",
      "[[2689500, 2690000], [2690000, 2690500], [2690500, 2691000], [2691000, 2691500], [2691500, 2692000], [2692000, 2692500], [2692500, 2693000], [2693000, 2693500], [2693500, 2694000], [2694000, 2694344]]\n"
     ]
    }
   ],
   "source": [
    "print len(batches)\n",
    "print batches[0:10]\n",
    "print batches[-10:]\n"
   ]
  },
  {
   "cell_type": "markdown",
   "metadata": {},
   "source": [
    "# 3.A - Efetch scrape SRA metadata"
   ]
  },
  {
   "cell_type": "code",
   "execution_count": 105,
   "metadata": {
    "collapsed": false
   },
   "outputs": [
    {
     "ename": "IndentationError",
     "evalue": "expected an indented block (<ipython-input-105-d7cb34e528e5>, line 28)",
     "output_type": "error",
     "traceback": [
      "\u001b[0;36m  File \u001b[0;32m\"<ipython-input-105-d7cb34e528e5>\"\u001b[0;36m, line \u001b[0;32m28\u001b[0m\n\u001b[0;31m    if sra_sample.EXPERIMENT.STUDY_REF.IDENTIFIERS.PRIMARY_ID is not None:\u001b[0m\n\u001b[0m    ^\u001b[0m\n\u001b[0;31mIndentationError\u001b[0m\u001b[0;31m:\u001b[0m expected an indented block\n"
     ]
    }
   ],
   "source": [
    "def get_srx_metadata(batch_uid_list):\n",
    "    srx_url = 'https://eutils.ncbi.nlm.nih.gov/entrez/eutils/efetch.fcgi?db=sra&tool=metaseq&email=metaseekcloud%40gmail.com&id='+str(batch_uid_list)[1:-1]\n",
    "    s = urllib.urlopen(srx_url)\n",
    "    sra_tree = etree.parse(s)\n",
    "    s.close()\n",
    "    sra_xml = sra_tree.getroot()\n",
    "\n",
    "    sra_samples = sra_xml.findall(\"EXPERIMENT_PACKAGE\")\n",
    "    sdict = {}\n",
    "\n",
    "    for which,sra_sample in enumerate(sra_samples): #the order of experiment_packages ARE in order of sra ids given - that's good\n",
    "        srx_dict = {}\n",
    "\n",
    "        sdict_id = str(batch_uid_list[which])\n",
    "        srx_dict['db_source_uid'] = sdict_id\n",
    "        srx_dict['db_source'] = 'SRA'\n",
    "        srx_dict['expt_link'] = \"https://www.ncbi.nlm.nih.gov/sra/\"+str(sdict_id)\n",
    "\n",
    "        #There are 7 top tag groups. Have to scrape data a little different for each: ['EXPERIMENT','SUBMISSION','Organization','STUDY','SAMPLE','Pool','RUN_SET']\n",
    "\n",
    "        ###EXPERIMENT -\n",
    "        if sra_sample.find(\"EXPERIMENT\").find(\"IDENTIFIERS\").findtext(\"PRIMARY_ID\") is not None:\n",
    "            srx_dict['expt_id'] = sra_sample.find(\"EXPERIMENT\").find(\"IDENTIFIERS\").findtext(\"PRIMARY_ID\")\n",
    "        if sra_sample.find(\"EXPERIMENT\").findtext(\"TITLE\") is not None:\n",
    "            srx_dict['expt_title'] = sra_sample.find(\"EXPERIMENT\").findtext(\"TITLE\")\n",
    "        if sra_sample.find(\"EXPERIMENT\").find(\"STUDY_REF\").find(\"IDENTIFIERS\") is not None:\n",
    "            if sra_sample.find(\"EXPERIMENT\").find(\"STUDY_REF\").find(\"IDENTIFIERS\").findtext(\"PRIMARY_ID\") is not None:\n",
    "                srx_dict[\"project_id\"] = sra_sample.find(\"EXPERIMENT\").find(\"STUDY_REF\").find(\"IDENTIFIERS\").findtext(\"PRIMARY_ID\")   \n",
    "        if sra_sample.find(\"EXPERIMENT\").find(\"DESIGN\").findtext(\"DESIGN_DESCRIPTION\") is not None:\n",
    "            srx_dict['expt_design_description'] = sra_sample.find(\"EXPERIMENT\").find(\"DESIGN\").findtext(\"DESIGN_DESCRIPTION\")\n",
    "        if sra_sample.find(\"EXPERIMENT\").find(\"DESIGN\").find(\"SAMPLE_DESCRIPTOR\").find(\"IDENTIFIERS\").findtext(\"PRIMARY_ID\") is not None:\n",
    "            srx_dict['sample_id'] = sra_sample.find(\"EXPERIMENT\").find(\"DESIGN\").find(\"SAMPLE_DESCRIPTOR\").find(\"IDENTIFIERS\").findtext(\"PRIMARY_ID\")\n",
    "        if sra_sample.find(\"EXPERIMENT\").find(\"DESIGN\").find(\"LIBRARY_DESCRIPTOR\").findtext(\"LIBRARY_NAME\") is not None:\n",
    "            srx_dict['library_name'] = sra_sample.find(\"EXPERIMENT\").find(\"DESIGN\").find(\"LIBRARY_DESCRIPTOR\").findtext(\"LIBRARY_NAME\")\n",
    "        if sra_sample.find(\"EXPERIMENT\").find(\"DESIGN\").find(\"LIBRARY_DESCRIPTOR\").findtext(\"LIBRARY_STRATEGY\") is not None:\n",
    "            srx_dict['library_strategy'] = sra_sample.find(\"EXPERIMENT\").find(\"DESIGN\").find(\"LIBRARY_DESCRIPTOR\").findtext(\"LIBRARY_STRATEGY\")\n",
    "        if sra_sample.find(\"EXPERIMENT\").find(\"DESIGN\").find(\"LIBRARY_DESCRIPTOR\").findtext(\"LIBRARY_SOURCE\").lower() is not None:\n",
    "            srx_dict['library_source'] = sra_sample.find(\"EXPERIMENT\").find(\"DESIGN\").find(\"LIBRARY_DESCRIPTOR\").findtext(\"LIBRARY_SOURCE\").lower()\n",
    "        ###change library_selection to MIxS field library_screening_strategy (cv for SRA, not for MIxS)\n",
    "        if sra_sample.find(\"EXPERIMENT\").find(\"DESIGN\").find(\"LIBRARY_DESCRIPTOR\").findtext(\"LIBRARY_SELECTION\") is not None:\n",
    "            srx_dict['library_screening_strategy'] = sra_sample.find(\"EXPERIMENT\").find(\"DESIGN\").find(\"LIBRARY_DESCRIPTOR\").findtext(\"LIBRARY_SELECTION\")\n",
    "        ###change library_layout to MIxS field library_construction_method - cv single | paired\n",
    "        if sra_sample.find(\"EXPERIMENT\").find(\"DESIGN\").find(\"LIBRARY_DESCRIPTOR\").findtext(\"LIBRARY_LAYOUT\") is not None:\n",
    "            srx_dict['library_construction_method'] sra_sample.find(\"EXPERIMENT\").find(\"DESIGN\").find(\"LIBRARY_DESCRIPTOR\").find(\"LIBRARY_LAYOUT\").getchildren()[0].tag.lower()\n",
    "        if sra_sample.find(\"EXPERIMENT\").find(\"DESIGN\").find(\"LIBRARY_DESCRIPTOR\").findtext(\"LIBRARY_CONSTRUCTION_PROTOCOL\") is not None:\n",
    "            srx_dict['library_construction_protocol'] = sra_sample.find(\"EXPERIMENT\").find(\"DESIGN\").find(\"LIBRARY_DESCRIPTOR\").findtext(\"LIBRARY_CONSTRUCTION_PROTOCOL\")\n",
    "        ###change platform to MIxS field sequencing_method - cv in SRA (not in MIxS)\n",
    "        if sra_sample.find(\"EXPERIMENT\").find(\"PLATFORM\").getchildren() is not None:\n",
    "            srx_dict['sequencing_method'] = sra_sample.find(\"EXPERIMENT\").find(\"PLATFORM\").getchildren()[0].tag.lower()\n",
    "            if sra_sample.find(\"EXPERIMENT\").find(\"PLATFORM\").getchildren()[0].findtext(\"INSTRUMENT_MODEL\") is not None:\n",
    "                srx_dict['instrument_model'] = sra_sample.find(\"EXPERIMENT\").find(\"PLATFORM\").getchildren()[0].findtext(\"INSTRUMENT_MODEL\")\n",
    "        \n",
    "        ###SUBMISSION - just need the submission id\n",
    "        if sra_sample.find(\"SUBMISSION\").find(\"IDENTIFIERS\").findtext(\"PRIMARY_ID\") is not None:\n",
    "            srx_dict['submission_id'] = sra_sample.find(\"SUBMISSION\").find(\"IDENTIFIERS\").findtext(\"PRIMARY_ID\")\n",
    "\n",
    "        ###Organization - name, address, and contact\n",
    "        if sra_sample.find(\"Organization\").findtext(\"Name\") is not None:\n",
    "            srx_dict['organization_name'] = sra_sample.find(\"Organization\").findtext(\"Name\")\n",
    "        if sra_sample.find(\"Organization\").find(\"Address\") is not None:\n",
    "            address = ''\n",
    "            for line in sra_sample.find(\"Organization\").find(\"Address\").iterchildren():\n",
    "                address = address+line.text+', '\n",
    "            address = address[:-2]\n",
    "            srx_dict['organization_address'] = address\n",
    "        if len(sra_sample.find(\"Organization\").findall(\"Contact\"))>0:\n",
    "            contacts = []\n",
    "            for contact in sra_sample.find(\"Organization\").findall(\"Contact\"):\n",
    "                name = contact.find(\"Name\").find(\"First\").text+' '+contact.find(\"Name\").find(\"Last\").text\n",
    "                email = contact.get('email')\n",
    "                contacts.append(name+', '+email)\n",
    "            srx_dict['organization_contacts'] = contacts\n",
    "        \n",
    "        ###STUDY -\n",
    "        if sra_sample.find(\"STUDY\").find(\"IDENTIFIERS\").findtext(\"PRIMARY_ID\") is not None: \n",
    "            srx_dict['study_id'] = sra_sample.find(\"STUDY\").find(\"IDENTIFIERS\").findtext(\"PRIMARY_ID\")\n",
    "        if sra_sample.find(\"STUDY\").find(\"DESCRIPTOR\").findtext(\"STUDY_TITLE\") is not None:\n",
    "            srx_dict['study_title'] = sra_sample.find(\"STUDY\").find(\"DESCRIPTOR\").findtext(\"STUDY_TITLE\")\n",
    "        ###rename existing_study_type to study_type\n",
    "        if sra_sample.find(\"STUDY\").find(\"DESCRIPTOR\").find(\"STUDY_TYPE\") is not None:\n",
    "            if sra_sample.find(\"STUDY\").find(\"DESCRIPTOR\").find(\"STUDY_TYPE\").get(\"existing_study_type\")==\"Other\":\n",
    "                srx_dict['study_type'] = 'Other'\n",
    "                if sra_sample.find(\"STUDY\").find(\"DESCRIPTOR\").find(\"STUDY_TYPE\").get(\"add_study_type\") is not None:\n",
    "                    srx_dict['study_type_other'] sra_sample.find(\"STUDY\").find(\"DESCRIPTOR\").find(\"STUDY_TYPE\").get(\"add_study_type\")\n",
    "            else:\n",
    "                srx_dict['study_type'] sra_sample.find(\"STUDY\").find(\"DESCRIPTOR\").find(\"STUDY_TYPE\").get(\"existing_study_type\")\n",
    "        if sra_sample.find(\"STUDY\").find(\"DESCRIPTOR\").findtext(\"STUDY_ABSTRACT\"):\n",
    "            srx_dict['study_abstract'] = sra_sample.find(\"STUDY\").find(\"DESCRIPTOR\").findtext(\"STUDY_ABSTRACT\")\n",
    "        \n",
    "        if sra_sample.STUDY.IDENTIFIERS.PRIMARY_ID is not None:\n",
    "            srx_dict['sra_study_id'] = sra_sample.STUDY.IDENTIFIERS.PRIMARY_ID.get_text()\n",
    "        if sra_sample.STUDY.DESCRIPTOR.STUDY_TYPE['existing_study_type'] is not None:\n",
    "            srx_dict['study_type'] = sra_sample.STUDY.DESCRIPTOR.STUDY_TYPE['existing_study_type']\n",
    "        if len(sra_sample.STUDY.DESCRIPTOR.find_all(True,recursive=False))>0:\n",
    "            for tag in sra_sample.STUDY.DESCRIPTOR.find_all(True,recursive=False):\n",
    "                srx_dict['sra_'+tag.name.lower()] = tag.get_text()\n",
    "\n",
    "        ###SAMPLE - just need sample id\n",
    "        if sra_sample.SAMPLE.IDENTIFIERS.PRIMARY_ID is not None:\n",
    "            srx_dict['sra_sample_id'] = sra_sample.SAMPLE.IDENTIFIERS.PRIMARY_ID.get_text()\n",
    "\n",
    "        ###Pool - skip, redundant\n",
    "\n",
    "        ###RUN_SET - record total num_runs, for each run basic stats\n",
    "        if len(sra_sample.RUN_SET.find_all('RUN'))>0:\n",
    "            srx_dict['num_runs_per_sra'] = len(sra_sample.RUN_SET.find_all('RUN'))\n",
    "            for run_ix,run in enumerate(sra_sample.RUN_SET.find_all('RUN')):\n",
    "                srx_dict['sra_run'+str(run_ix)+'_id'] = run['accession']\n",
    "                srx_dict['sra_run'+str(run_ix)+'_total_spots'] = run['total_spots']\n",
    "                srx_dict['sra_run'+str(run_ix)+'_total_bases'] = run['total_bases']\n",
    "                srx_dict['sra_run'+str(run_ix)+'_size'] = run['size']\n",
    "                if run.Bases.find_all('Base') is not None:\n",
    "                    for base in run.Bases.find_all('Base'):\n",
    "                        srx_dict['sra_run'+str(run_ix)+'_base'+base['value']+'_count'] = base['count']\n",
    "\n",
    "        sdict[sdict_id] = srx_dict\n",
    "\n",
    "    #destroy sra_xml, we're done with it\n",
    "    sra_xml.decompose()\n",
    "    return sdict\n"
   ]
  },
  {
   "cell_type": "code",
   "execution_count": 86,
   "metadata": {
    "collapsed": false
   },
   "outputs": [
    {
     "data": {
      "text/plain": [
       "[4123567,\n",
       " 4123566,\n",
       " 4123565,\n",
       " 4123562,\n",
       " 4123561,\n",
       " 4123560,\n",
       " 4123559,\n",
       " 4123556,\n",
       " 4123555,\n",
       " 4123554]"
      ]
     },
     "execution_count": 86,
     "metadata": {},
     "output_type": "execute_result"
    }
   ],
   "source": [
    "batch = batches[0]\n",
    "batch_uid_list = map(int,uid_list[batch[0]:batch[1]])\n",
    "batch_uid_list[0:10]"
   ]
  },
  {
   "cell_type": "code",
   "execution_count": 96,
   "metadata": {
    "collapsed": false
   },
   "outputs": [
    {
     "data": {
      "text/plain": [
       "4123567"
      ]
     },
     "execution_count": 96,
     "metadata": {},
     "output_type": "execute_result"
    }
   ],
   "source": [
    "batch_uid_list[0]"
   ]
  },
  {
   "cell_type": "code",
   "execution_count": 91,
   "metadata": {
    "collapsed": false
   },
   "outputs": [
    {
     "data": {
      "text/plain": [
       "'https://eutils.ncbi.nlm.nih.gov/entrez/eutils/efetch.fcgi?db=sra&tool=metaseq&email=metaseekcloud%40gmail.com&id=4123567, 4123566'"
      ]
     },
     "execution_count": 91,
     "metadata": {},
     "output_type": "execute_result"
    }
   ],
   "source": [
    "srx_url = 'https://eutils.ncbi.nlm.nih.gov/entrez/eutils/efetch.fcgi?db=sra&tool=metaseq&email=metaseekcloud%40gmail.com&id='+str(batch_uid_list)[1:-1][0:16] #leave out \n",
    "srx_url"
   ]
  },
  {
   "cell_type": "code",
   "execution_count": 92,
   "metadata": {
    "collapsed": false
   },
   "outputs": [],
   "source": [
    "s = urllib.urlopen(srx_url)\n",
    "sra_tree = etree.parse(s)\n",
    "s.close()\n",
    "sra_xml = sra_tree.getroot()"
   ]
  },
  {
   "cell_type": "code",
   "execution_count": 94,
   "metadata": {
    "collapsed": false
   },
   "outputs": [
    {
     "data": {
      "text/plain": [
       "[<Element EXPERIMENT_PACKAGE at 0x109655830>,\n",
       " <Element EXPERIMENT_PACKAGE at 0x1096558c0>]"
      ]
     },
     "execution_count": 94,
     "metadata": {},
     "output_type": "execute_result"
    }
   ],
   "source": [
    "sra_xml.getchildren()"
   ]
  },
  {
   "cell_type": "code",
   "execution_count": 103,
   "metadata": {
    "collapsed": false
   },
   "outputs": [
    {
     "ename": "NameError",
     "evalue": "name 'srx_dict' is not defined",
     "output_type": "error",
     "traceback": [
      "\u001b[0;31m---------------------------------------------------------------------------\u001b[0m",
      "\u001b[0;31mNameError\u001b[0m                                 Traceback (most recent call last)",
      "\u001b[0;32m<ipython-input-103-3f1e59d5c350>\u001b[0m in \u001b[0;36m<module>\u001b[0;34m()\u001b[0m\n\u001b[1;32m      1\u001b[0m \u001b[0msra_samples\u001b[0m \u001b[0;34m=\u001b[0m \u001b[0msra_xml\u001b[0m\u001b[0;34m.\u001b[0m\u001b[0mfindall\u001b[0m\u001b[0;34m(\u001b[0m\u001b[0;34m\"EXPERIMENT_PACKAGE\"\u001b[0m\u001b[0;34m)\u001b[0m\u001b[0;34m\u001b[0m\u001b[0m\n\u001b[1;32m      2\u001b[0m \u001b[0msdict\u001b[0m \u001b[0;34m=\u001b[0m \u001b[0;34m{\u001b[0m\u001b[0;34m}\u001b[0m\u001b[0;34m\u001b[0m\u001b[0m\n\u001b[0;32m----> 3\u001b[0;31m \u001b[0msrx_dict\u001b[0m\u001b[0;34m\u001b[0m\u001b[0m\n\u001b[0m\u001b[1;32m      4\u001b[0m \u001b[0msra_samples\u001b[0m\u001b[0;34m\u001b[0m\u001b[0m\n",
      "\u001b[0;31mNameError\u001b[0m: name 'srx_dict' is not defined"
     ]
    }
   ],
   "source": [
    "sra_samples = sra_xml.findall(\"EXPERIMENT_PACKAGE\")\n",
    "sdict = {}\n",
    "sra_samples"
   ]
  },
  {
   "cell_type": "code",
   "execution_count": 98,
   "metadata": {
    "collapsed": false
   },
   "outputs": [
    {
     "data": {
      "text/plain": [
       "<Element EXPERIMENT_PACKAGE at 0x109655830>"
      ]
     },
     "execution_count": 98,
     "metadata": {},
     "output_type": "execute_result"
    }
   ],
   "source": [
    "sra_sample = sra_samples[0]\n",
    "sra_sample"
   ]
  },
  {
   "cell_type": "code",
   "execution_count": 100,
   "metadata": {
    "collapsed": false
   },
   "outputs": [
    {
     "data": {
      "text/plain": [
       "[<Element IDENTIFIERS at 0x109655d40>,\n",
       " <Element TITLE at 0x109655488>,\n",
       " <Element STUDY_REF at 0x1040ba6c8>,\n",
       " <Element DESIGN at 0x1040ba440>,\n",
       " <Element PLATFORM at 0x1040ba908>,\n",
       " <Element PROCESSING at 0x1040bab90>]"
      ]
     },
     "execution_count": 100,
     "metadata": {},
     "output_type": "execute_result"
    }
   ],
   "source": [
    "sra_sample.find(\"EXPERIMENT\").getchildren()"
   ]
  },
  {
   "cell_type": "code",
   "execution_count": 182,
   "metadata": {
    "collapsed": false
   },
   "outputs": [
    {
     "data": {
      "text/plain": [
       "{\"CFSAN's Whole Genome Sequencing program\": 'http://www.fda.gov/Food/FoodScienceResearch/WholeGenomeSequencingProgramWGS/default.htm',\n",
       " 'pubmed': '25540336'}"
      ]
     },
     "execution_count": 182,
     "metadata": {},
     "output_type": "execute_result"
    }
   ],
   "source": [
    "study_links = {}\n",
    "for study_link in sra_sample.find(\"STUDY\").find(\"STUDY_LINKS\").iterchildren():\n",
    "    if study_link.find(\"XREF_LINK\") is not None:\n",
    "        study_links[study_link.find(\"XREF_LINK\").findtext(\"DB\")] = study_link.find(\"XREF_LINK\").findtext(\"ID\")\n",
    "    if study_link.find(\"URL_LINK\") is not None:\n",
    "        study_links[study_link.find(\"URL_LINK\").findtext(\"LABEL\")] = study_link.find(\"URL_LINK\").findtext(\"URL\")\n",
    "study_links"
   ]
  },
  {
   "cell_type": "code",
   "execution_count": null,
   "metadata": {
    "collapsed": false
   },
   "outputs": [],
   "source": []
  },
  {
   "cell_type": "code",
   "execution_count": null,
   "metadata": {
    "collapsed": false
   },
   "outputs": [],
   "source": []
  },
  {
   "cell_type": "code",
   "execution_count": null,
   "metadata": {
    "collapsed": false
   },
   "outputs": [],
   "source": []
  },
  {
   "cell_type": "code",
   "execution_count": null,
   "metadata": {
    "collapsed": true
   },
   "outputs": [],
   "source": []
  }
 ],
 "metadata": {
  "kernelspec": {
   "display_name": "Python 2",
   "language": "python",
   "name": "python2"
  },
  "language_info": {
   "codemirror_mode": {
    "name": "ipython",
    "version": 2
   },
   "file_extension": ".py",
   "mimetype": "text/x-python",
   "name": "python",
   "nbconvert_exporter": "python",
   "pygments_lexer": "ipython2",
   "version": "2.7.12"
  }
 },
 "nbformat": 4,
 "nbformat_minor": 0
}
